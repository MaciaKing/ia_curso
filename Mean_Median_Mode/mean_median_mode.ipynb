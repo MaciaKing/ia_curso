{
 "cells": [
  {
   "cell_type": "markdown",
   "metadata": {},
   "source": [
    "# MEAN, MEDIAN, MODE and intro of numpy\n",
    "## Mean vs Median\n",
    "Let's create fake income data. This data will have centered around 27000 with a normal distribution and standard deviation of 15000.\n",
    "Then compute the mean (average) that should be close to 27000"
   ]
  },
  {
   "cell_type": "code",
   "execution_count": 1,
   "metadata": {},
   "outputs": [
    {
     "data": {
      "text/plain": [
       "27267.383560356575"
      ]
     },
     "execution_count": 1,
     "metadata": {},
     "output_type": "execute_result"
    }
   ],
   "source": [
    "import numpy as np\n",
    "# random.normal(loc=0.0, scale=1.0, size=None)\n",
    "incomes = np.random.normal(27000, 15000, 10000)\n",
    "np.mean(incomes)"
   ]
  },
  {
   "cell_type": "markdown",
   "metadata": {},
   "source": [
    "We can see graphically using matplotlib"
   ]
  },
  {
   "cell_type": "code",
   "execution_count": 2,
   "metadata": {},
   "outputs": [
    {
     "data": {
      "image/png": "[encoded data removed]",
      "text/plain": [
       "<Figure size 640x480 with 1 Axes>"
      ]
     },
     "metadata": {},
     "output_type": "display_data"
    }
   ],
   "source": [
    "import matplotlib.pyplot as plt\n",
    "plt.hist(incomes, 50)\n",
    "plt.show()"
   ]
  },
  {
   "cell_type": "markdown",
   "metadata": {},
   "source": [
    "We can see that distribution is centeret on 27000.\n",
    "Let's see the median of the normal distribution, that should be near of 27000"
   ]
  },
  {
   "cell_type": "code",
   "execution_count": 3,
   "metadata": {},
   "outputs": [
    {
     "name": "stdout",
     "output_type": "stream",
     "text": [
      "Median = 27369.236263893938\n",
      "Mean = 27267.383560356575\n"
     ]
    }
   ],
   "source": [
    "print(\"Median =\", np.median(incomes))\n",
    "print(\"Mean =\", np.mean(incomes))"
   ]
  },
  {
   "cell_type": "markdown",
   "metadata": {},
   "source": [
    "What happens if we add an elemnt that is not normalizated? For exemple if these incomes are \"average annual salary\", what happens if we add Jeff Bezos salary?"
   ]
  },
  {
   "cell_type": "code",
   "execution_count": 4,
   "metadata": {},
   "outputs": [],
   "source": [
    "incomes = np.append(incomes, [1000000000])"
   ]
  },
  {
   "cell_type": "markdown",
   "metadata": {},
   "source": [
    "The median won't change much, but the mean does.\n",
    "- Mean --> Represents the midel value of all values on dataset.\n",
    "- Median --> Is the formula (A1, A2, A3, ... , An)/n"
   ]
  },
  {
   "cell_type": "code",
   "execution_count": 5,
   "metadata": {},
   "outputs": [
    {
     "name": "stdout",
     "output_type": "stream",
     "text": [
      "Median = 27369.97005630652\n",
      "Mean = 127254.65809454712\n"
     ]
    }
   ],
   "source": [
    "print(\"Median =\", np.median(incomes))\n",
    "print(\"Mean =\", np.mean(incomes))"
   ]
  },
  {
   "cell_type": "markdown",
   "metadata": {},
   "source": [
    "Jeff Bezzos salary will be an outlayer"
   ]
  },
  {
   "cell_type": "markdown",
   "metadata": {},
   "source": [
    "## MODE\n",
    "Let's generate some fake age data for 500 people"
   ]
  },
  {
   "cell_type": "code",
   "execution_count": 7,
   "metadata": {},
   "outputs": [
    {
     "data": {
      "text/plain": [
       "array([32, 59, 62, 22, 54, 21, 42, 55, 78, 29, 18, 77, 77, 24, 31, 62, 40,\n",
       "       78, 56, 35, 33, 51, 86, 50, 84, 61, 42, 64, 47, 58, 84, 85, 42, 52,\n",
       "       32, 66, 84, 56, 86, 64, 75, 23, 52, 81, 57, 50, 29, 54, 87, 77, 83,\n",
       "       33, 33, 43, 19, 43, 42, 36, 22, 80, 77, 46, 82, 65, 82, 65, 61, 80,\n",
       "       56, 28, 58, 46, 84, 67, 46, 20, 75, 29, 76, 39, 30, 30, 22, 33, 34,\n",
       "       88, 69, 58, 42, 41, 57, 49, 18, 75, 30, 32, 50, 26, 72, 89, 48, 29,\n",
       "       66, 56, 64, 79, 89, 34, 32, 38, 64, 81, 69, 54, 79, 71, 49, 43, 46,\n",
       "       55, 71, 23, 38, 84, 33, 36, 38, 85, 36, 64, 20, 50, 33, 48, 32, 78,\n",
       "       70, 65, 41, 21, 63, 47, 57, 49, 21, 23, 71, 46, 64, 77, 81, 23, 43,\n",
       "       46, 33, 66, 78, 83, 80, 72, 27, 34, 83, 40, 89, 58, 77, 45, 54, 84,\n",
       "       25, 35, 36, 18, 74, 25, 79, 88, 43, 42, 63, 57, 80, 60, 31, 55, 80,\n",
       "       76, 64, 55, 51, 59, 78, 73, 84, 50, 24, 56, 52, 68, 51, 51, 39, 46,\n",
       "       20, 77, 33, 20, 74, 35, 60, 82, 62, 27, 85, 88, 83, 20, 73, 83, 24,\n",
       "       23, 64, 86, 43, 41, 46, 30, 33, 84, 89, 65, 85, 52, 62, 68, 53, 41,\n",
       "       35, 70, 32, 80, 38, 46, 45, 51, 48, 39, 76, 81, 84, 35, 66, 77, 26,\n",
       "       54, 39, 31, 21, 40, 77, 39, 41, 38, 71, 66, 53, 56, 72, 19, 89, 64,\n",
       "       21, 52, 72, 61, 54, 77, 77, 28, 51, 53, 83, 53, 82, 23, 56, 78, 55,\n",
       "       79, 86, 43, 52, 75, 73, 19, 61, 74, 77, 57, 28, 21, 19, 48, 52, 22,\n",
       "       23, 24, 51, 55, 51, 61, 88, 32, 55, 19, 72, 20, 66, 41, 75, 72, 41,\n",
       "       61, 57, 79, 50, 38, 70, 66, 84, 36, 37, 58, 80, 52, 85, 47, 48, 19,\n",
       "       71, 83, 78, 19, 33, 68, 26, 62, 87, 51, 40, 20, 43, 25, 45, 68, 21,\n",
       "       56, 41, 35, 54, 37, 37, 54, 58, 79, 85, 32, 41, 82, 27, 28, 47, 33,\n",
       "       86, 35, 32, 83, 22, 61, 45, 40, 24, 24, 71, 39, 89, 24, 54, 81, 83,\n",
       "       20, 41, 82, 77, 64, 84, 73, 25, 55, 21, 21, 34, 49, 58, 77, 78, 49,\n",
       "       24, 86, 20, 56, 60, 53, 73, 68, 41, 73, 51, 38, 85, 64, 85, 22, 18,\n",
       "       45, 24, 53, 76, 82, 66, 57, 58, 81, 21, 69, 76, 39, 36, 71, 48, 41,\n",
       "       37, 86, 62, 44, 41, 20, 32, 42, 51, 76, 42, 72, 72, 52, 71, 86, 39,\n",
       "       32, 60, 73, 85, 38, 54, 20, 38, 51, 46, 45, 79, 18, 46, 38, 33, 21,\n",
       "       82, 54, 54, 38, 41, 89, 70, 46, 68, 18, 79, 20, 75, 27, 21, 60, 75,\n",
       "       75, 24, 22, 52, 26, 34, 66])"
      ]
     },
     "execution_count": 7,
     "metadata": {},
     "output_type": "execute_result"
    }
   ],
   "source": [
    "ages = np.random.randint(low=18, high=90, size=500)\n",
    "ages"
   ]
  },
  {
   "cell_type": "code",
   "execution_count": 8,
   "metadata": {},
   "outputs": [
    {
     "name": "stderr",
     "output_type": "stream",
     "text": [
      "/var/folders/pk/5lcc82957kv6k6hlpjcnblfr0000gn/T/ipykernel_1669/2994774060.py:2: FutureWarning: Unlike other reduction functions (e.g. `skew`, `kurtosis`), the default behavior of `mode` typically preserves the axis it acts along. In SciPy 1.11.0, this behavior will change: the default value of `keepdims` will become False, the `axis` over which the statistic is taken will be eliminated, and the value None will no longer be accepted. Set `keepdims` to True or False to avoid this warning.\n",
      "  stats.mode(ages)\n"
     ]
    },
    {
     "data": {
      "text/plain": [
       "ModeResult(mode=array([41]), count=array([14]))"
      ]
     },
     "execution_count": 8,
     "metadata": {},
     "output_type": "execute_result"
    }
   ],
   "source": [
    "from scipy import stats\n",
    "stats.mode(ages)"
   ]
  }
 ],
 "metadata": {
  "kernelspec": {
   "display_name": "MachineLearning",
   "language": "python",
   "name": "python3"
  },
  "language_info": {
   "codemirror_mode": {
    "name": "ipython",
    "version": 3
   },
   "file_extension": ".py",
   "mimetype": "text/x-python",
   "name": "python",
   "nbconvert_exporter": "python",
   "pygments_lexer": "ipython3",
   "version": "3.10.4"
  }
 },
 "nbformat": 4,
 "nbformat_minor": 2
}
